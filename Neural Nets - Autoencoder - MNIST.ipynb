{
 "cells": [
  {
   "cell_type": "markdown",
   "metadata": {},
   "source": [
    "# Neural Nets - Autoencoder - MNIST\n",
    "\n",
    "Rob Rappa\n",
    "7/7/19\n",
    "\n",
    "#Source - DataCamp - Deep Learning with Keras"
   ]
  },
  {
   "cell_type": "code",
   "execution_count": 1,
   "metadata": {},
   "outputs": [
    {
     "name": "stderr",
     "output_type": "stream",
     "text": [
      "Using TensorFlow backend.\n"
     ]
    }
   ],
   "source": [
    "#########################\n",
    "# IMPORT\n",
    "#########################\n",
    "\n",
    "import math\n",
    "import numpy as np\n",
    "from numpy import genfromtxt\n",
    "import pandas as pd\n",
    "import random\n",
    "import matplotlib.pyplot as plt\n",
    "import seaborn as sns\n",
    "from sklearn.model_selection import train_test_split\n",
    "from sklearn.datasets import load_digits\n",
    "from keras.models import Sequential\n",
    "from keras.layers import Dense, Conv2D, MaxPooling2D, Flatten, BatchNormalization, LeakyReLU\n",
    "from keras.callbacks import EarlyStopping, ModelCheckpoint\n",
    "from keras.wrappers.scikit_learn import KerasClassifier  #for grid search"
   ]
  },
  {
   "cell_type": "markdown",
   "metadata": {},
   "source": [
    "### Data"
   ]
  },
  {
   "cell_type": "code",
   "execution_count": 7,
   "metadata": {},
   "outputs": [
    {
     "data": {
      "text/plain": [
       "47100000"
      ]
     },
     "execution_count": 7,
     "metadata": {},
     "output_type": "execute_result"
    }
   ],
   "source": [
    "#Read MNIST data\n",
    "#Downloaded from Datacamp\n",
    "\n",
    "#Read input\n",
    "mnist = pd.read_csv('data_mnist_train.csv', sep=\",\",header = None)"
   ]
  },
  {
   "cell_type": "code",
   "execution_count": 9,
   "metadata": {},
   "outputs": [
    {
     "data": {
      "text/plain": [
       "(60000, 785)"
      ]
     },
     "execution_count": 9,
     "metadata": {},
     "output_type": "execute_result"
    }
   ],
   "source": [
    "#MNIST Analysis\n",
    "mnist.shape"
   ]
  },
  {
   "cell_type": "code",
   "execution_count": 28,
   "metadata": {},
   "outputs": [
    {
     "data": {
      "text/html": [
       "<div>\n",
       "<style scoped>\n",
       "    .dataframe tbody tr th:only-of-type {\n",
       "        vertical-align: middle;\n",
       "    }\n",
       "\n",
       "    .dataframe tbody tr th {\n",
       "        vertical-align: top;\n",
       "    }\n",
       "\n",
       "    .dataframe thead th {\n",
       "        text-align: right;\n",
       "    }\n",
       "</style>\n",
       "<table border=\"1\" class=\"dataframe\">\n",
       "  <thead>\n",
       "    <tr style=\"text-align: right;\">\n",
       "      <th></th>\n",
       "      <th>1</th>\n",
       "      <th>2</th>\n",
       "      <th>3</th>\n",
       "      <th>4</th>\n",
       "      <th>5</th>\n",
       "      <th>6</th>\n",
       "      <th>7</th>\n",
       "      <th>8</th>\n",
       "      <th>9</th>\n",
       "      <th>10</th>\n",
       "      <th>...</th>\n",
       "      <th>775</th>\n",
       "      <th>776</th>\n",
       "      <th>777</th>\n",
       "      <th>778</th>\n",
       "      <th>779</th>\n",
       "      <th>780</th>\n",
       "      <th>781</th>\n",
       "      <th>782</th>\n",
       "      <th>783</th>\n",
       "      <th>784</th>\n",
       "    </tr>\n",
       "  </thead>\n",
       "  <tbody>\n",
       "    <tr>\n",
       "      <th>0</th>\n",
       "      <td>0</td>\n",
       "      <td>0</td>\n",
       "      <td>0</td>\n",
       "      <td>0</td>\n",
       "      <td>0</td>\n",
       "      <td>0</td>\n",
       "      <td>0</td>\n",
       "      <td>0</td>\n",
       "      <td>0</td>\n",
       "      <td>0</td>\n",
       "      <td>...</td>\n",
       "      <td>0</td>\n",
       "      <td>0</td>\n",
       "      <td>0</td>\n",
       "      <td>0</td>\n",
       "      <td>0</td>\n",
       "      <td>0</td>\n",
       "      <td>0</td>\n",
       "      <td>0</td>\n",
       "      <td>0</td>\n",
       "      <td>0</td>\n",
       "    </tr>\n",
       "    <tr>\n",
       "      <th>1</th>\n",
       "      <td>0</td>\n",
       "      <td>0</td>\n",
       "      <td>0</td>\n",
       "      <td>0</td>\n",
       "      <td>0</td>\n",
       "      <td>0</td>\n",
       "      <td>0</td>\n",
       "      <td>0</td>\n",
       "      <td>0</td>\n",
       "      <td>0</td>\n",
       "      <td>...</td>\n",
       "      <td>0</td>\n",
       "      <td>0</td>\n",
       "      <td>0</td>\n",
       "      <td>0</td>\n",
       "      <td>0</td>\n",
       "      <td>0</td>\n",
       "      <td>0</td>\n",
       "      <td>0</td>\n",
       "      <td>0</td>\n",
       "      <td>0</td>\n",
       "    </tr>\n",
       "    <tr>\n",
       "      <th>2</th>\n",
       "      <td>0</td>\n",
       "      <td>0</td>\n",
       "      <td>0</td>\n",
       "      <td>0</td>\n",
       "      <td>0</td>\n",
       "      <td>0</td>\n",
       "      <td>0</td>\n",
       "      <td>0</td>\n",
       "      <td>0</td>\n",
       "      <td>0</td>\n",
       "      <td>...</td>\n",
       "      <td>0</td>\n",
       "      <td>0</td>\n",
       "      <td>0</td>\n",
       "      <td>0</td>\n",
       "      <td>0</td>\n",
       "      <td>0</td>\n",
       "      <td>0</td>\n",
       "      <td>0</td>\n",
       "      <td>0</td>\n",
       "      <td>0</td>\n",
       "    </tr>\n",
       "    <tr>\n",
       "      <th>3</th>\n",
       "      <td>0</td>\n",
       "      <td>0</td>\n",
       "      <td>0</td>\n",
       "      <td>0</td>\n",
       "      <td>0</td>\n",
       "      <td>0</td>\n",
       "      <td>0</td>\n",
       "      <td>0</td>\n",
       "      <td>0</td>\n",
       "      <td>0</td>\n",
       "      <td>...</td>\n",
       "      <td>0</td>\n",
       "      <td>0</td>\n",
       "      <td>0</td>\n",
       "      <td>0</td>\n",
       "      <td>0</td>\n",
       "      <td>0</td>\n",
       "      <td>0</td>\n",
       "      <td>0</td>\n",
       "      <td>0</td>\n",
       "      <td>0</td>\n",
       "    </tr>\n",
       "    <tr>\n",
       "      <th>4</th>\n",
       "      <td>0</td>\n",
       "      <td>0</td>\n",
       "      <td>0</td>\n",
       "      <td>0</td>\n",
       "      <td>0</td>\n",
       "      <td>0</td>\n",
       "      <td>0</td>\n",
       "      <td>0</td>\n",
       "      <td>0</td>\n",
       "      <td>0</td>\n",
       "      <td>...</td>\n",
       "      <td>0</td>\n",
       "      <td>0</td>\n",
       "      <td>0</td>\n",
       "      <td>0</td>\n",
       "      <td>0</td>\n",
       "      <td>0</td>\n",
       "      <td>0</td>\n",
       "      <td>0</td>\n",
       "      <td>0</td>\n",
       "      <td>0</td>\n",
       "    </tr>\n",
       "  </tbody>\n",
       "</table>\n",
       "<p>5 rows × 784 columns</p>\n",
       "</div>"
      ],
      "text/plain": [
       "   1    2    3    4    5    6    7    8    9    10  ...   775  776  777  778  \\\n",
       "0    0    0    0    0    0    0    0    0    0    0 ...     0    0    0    0   \n",
       "1    0    0    0    0    0    0    0    0    0    0 ...     0    0    0    0   \n",
       "2    0    0    0    0    0    0    0    0    0    0 ...     0    0    0    0   \n",
       "3    0    0    0    0    0    0    0    0    0    0 ...     0    0    0    0   \n",
       "4    0    0    0    0    0    0    0    0    0    0 ...     0    0    0    0   \n",
       "\n",
       "   779  780  781  782  783  784  \n",
       "0    0    0    0    0    0    0  \n",
       "1    0    0    0    0    0    0  \n",
       "2    0    0    0    0    0    0  \n",
       "3    0    0    0    0    0    0  \n",
       "4    0    0    0    0    0    0  \n",
       "\n",
       "[5 rows x 784 columns]"
      ]
     },
     "execution_count": 28,
     "metadata": {},
     "output_type": "execute_result"
    }
   ],
   "source": [
    "#X - 784\n",
    "X = mnist.iloc[:10000,1:]\n",
    "\n",
    "X.head()"
   ]
  },
  {
   "cell_type": "code",
   "execution_count": 33,
   "metadata": {},
   "outputs": [
    {
     "data": {
      "text/plain": [
       "(3300, 784)"
      ]
     },
     "execution_count": 33,
     "metadata": {},
     "output_type": "execute_result"
    }
   ],
   "source": [
    "#Split data\n",
    "X_train, X_test, _, _ = train_test_split(X, X, test_size=0.33, random_state=42)\n",
    "\n",
    "X_test.shape"
   ]
  },
  {
   "cell_type": "code",
   "execution_count": 49,
   "metadata": {},
   "outputs": [
    {
     "data": {
      "text/plain": [
       "array([[0, 0, 0, ..., 0, 0, 0],\n",
       "       [0, 0, 0, ..., 0, 0, 0],\n",
       "       [0, 0, 0, ..., 0, 0, 0],\n",
       "       [0, 0, 0, ..., 0, 0, 0]])"
      ]
     },
     "execution_count": 49,
     "metadata": {},
     "output_type": "execute_result"
    }
   ],
   "source": [
    "# Load noisy data\n",
    "# 5 random numbers - may not actually be noisy\n",
    "\n",
    "X_test_noise = X.iloc[[72,383,743,9823],:].values\n",
    "\n",
    "X_test_noise"
   ]
  },
  {
   "cell_type": "markdown",
   "metadata": {},
   "source": [
    "### Build Architecture"
   ]
  },
  {
   "cell_type": "code",
   "execution_count": 21,
   "metadata": {},
   "outputs": [
    {
     "name": "stdout",
     "output_type": "stream",
     "text": [
      "_________________________________________________________________\n",
      "Layer (type)                 Output Shape              Param #   \n",
      "=================================================================\n",
      "dense_3 (Dense)              (None, 32)                25120     \n",
      "_________________________________________________________________\n",
      "dense_4 (Dense)              (None, 784)               25872     \n",
      "=================================================================\n",
      "Total params: 50,992\n",
      "Trainable params: 50,992\n",
      "Non-trainable params: 0\n",
      "_________________________________________________________________\n"
     ]
    }
   ],
   "source": [
    "# Start with a sequential model\n",
    "autoencoder = Sequential()\n",
    "\n",
    "# Add a dense layer with the original image as input\n",
    "autoencoder.add(Dense(32, input_shape=(784, ), activation=\"relu\"))\n",
    "\n",
    "# Add an output layer with as many nodes as the image\n",
    "autoencoder.add(Dense(784, activation=\"sigmoid\"))\n",
    "\n",
    "# Compile your model\n",
    "autoencoder.compile(optimizer='adadelta', loss='binary_crossentropy')\n",
    "\n",
    "# Take a look at your model structure\n",
    "autoencoder.summary()"
   ]
  },
  {
   "cell_type": "code",
   "execution_count": 23,
   "metadata": {},
   "outputs": [],
   "source": [
    "#Include Keras Callbacks\n",
    "\n",
    "# Define a callback to monitor val_acc\n",
    "monitor_val_acc = EarlyStopping(monitor='val_acc', patience=10)\n",
    "\n",
    "\n",
    "# Save the best model as best_banknote_model.hdf5\n",
    "modelCheckpoint = ModelCheckpoint('best_multiclassmultilabel_model.hdf5', save_best_only=True)"
   ]
  },
  {
   "cell_type": "markdown",
   "metadata": {},
   "source": [
    "### Fit Models"
   ]
  },
  {
   "cell_type": "code",
   "execution_count": 63,
   "metadata": {},
   "outputs": [
    {
     "name": "stdout",
     "output_type": "stream",
     "text": [
      "Train on 6700 samples, validate on 3300 samples\n",
      "Epoch 1/100\n",
      "6700/6700 [==============================] - 1s 182us/step - loss: -510.7577 - val_loss: -507.9559\n",
      "Epoch 2/100\n",
      "1152/6700 [====>.........................] - ETA: 0s - loss: -514.9688"
     ]
    },
    {
     "name": "stderr",
     "output_type": "stream",
     "text": [
      "/Library/Frameworks/Python.framework/Versions/3.6/lib/python3.6/site-packages/keras/callbacks.py:535: RuntimeWarning: Early stopping conditioned on metric `val_acc` which is not available. Available metrics are: val_loss,loss\n",
      "  (self.monitor, ','.join(list(logs.keys()))), RuntimeWarning\n"
     ]
    },
    {
     "name": "stdout",
     "output_type": "stream",
     "text": [
      "6700/6700 [==============================] - 1s 161us/step - loss: -510.8512 - val_loss: -507.9396\n",
      "Epoch 3/100\n",
      "6700/6700 [==============================] - 1s 160us/step - loss: -510.9159 - val_loss: -507.9797\n",
      "Epoch 4/100\n",
      "6700/6700 [==============================] - 1s 169us/step - loss: -510.9750 - val_loss: -507.9639\n",
      "Epoch 5/100\n",
      "6700/6700 [==============================] - 1s 160us/step - loss: -511.0179 - val_loss: -507.9331\n",
      "Epoch 6/100\n",
      "6700/6700 [==============================] - 1s 160us/step - loss: -511.0512 - val_loss: -508.0159\n",
      "Epoch 7/100\n",
      "6700/6700 [==============================] - 1s 159us/step - loss: -511.0656 - val_loss: -508.0904\n",
      "Epoch 8/100\n",
      "6700/6700 [==============================] - 1s 163us/step - loss: -511.1088 - val_loss: -507.9992\n",
      "Epoch 9/100\n",
      "6700/6700 [==============================] - 1s 158us/step - loss: -511.1174 - val_loss: -508.0348\n",
      "Epoch 10/100\n",
      "6700/6700 [==============================] - 1s 161us/step - loss: -511.1119 - val_loss: -508.0106\n",
      "Epoch 11/100\n",
      "6700/6700 [==============================] - 1s 161us/step - loss: -511.1439 - val_loss: -508.1357\n",
      "Epoch 12/100\n",
      "6700/6700 [==============================] - 1s 161us/step - loss: -511.1618 - val_loss: -508.1399\n",
      "Epoch 13/100\n",
      "6700/6700 [==============================] - 1s 160us/step - loss: -511.1541 - val_loss: -508.1020\n",
      "Epoch 14/100\n",
      "6700/6700 [==============================] - 1s 162us/step - loss: -511.1995 - val_loss: -508.1353\n",
      "Epoch 15/100\n",
      "6700/6700 [==============================] - 1s 164us/step - loss: -511.2026 - val_loss: -508.2013\n",
      "Epoch 16/100\n",
      "6700/6700 [==============================] - 1s 165us/step - loss: -511.2126 - val_loss: -508.0550\n",
      "Epoch 17/100\n",
      "6700/6700 [==============================] - 1s 160us/step - loss: -511.2046 - val_loss: -508.1859\n",
      "Epoch 18/100\n",
      "6700/6700 [==============================] - 1s 160us/step - loss: -511.2086 - val_loss: -508.1157\n",
      "Epoch 19/100\n",
      "6700/6700 [==============================] - 1s 163us/step - loss: -511.2062 - val_loss: -508.1633\n",
      "Epoch 20/100\n",
      "6700/6700 [==============================] - 1s 161us/step - loss: -511.2102 - val_loss: -507.9978\n",
      "Epoch 21/100\n",
      "6700/6700 [==============================] - 1s 173us/step - loss: -511.2293 - val_loss: -508.0533\n",
      "Epoch 22/100\n",
      "6700/6700 [==============================] - 1s 165us/step - loss: -511.2211 - val_loss: -507.9132\n",
      "Epoch 23/100\n",
      "6700/6700 [==============================] - 1s 160us/step - loss: -511.1965 - val_loss: -507.9831\n",
      "Epoch 24/100\n",
      "6700/6700 [==============================] - 1s 161us/step - loss: -511.1945 - val_loss: -507.9727\n",
      "Epoch 25/100\n",
      "6700/6700 [==============================] - 1s 168us/step - loss: -511.1949 - val_loss: -507.9505\n",
      "Epoch 26/100\n",
      "6700/6700 [==============================] - 1s 166us/step - loss: -511.1747 - val_loss: -507.6426\n",
      "Epoch 27/100\n",
      "6700/6700 [==============================] - 1s 165us/step - loss: -511.2000 - val_loss: -508.0719\n",
      "Epoch 28/100\n",
      "6700/6700 [==============================] - 1s 161us/step - loss: -511.1991 - val_loss: -507.4762\n",
      "Epoch 29/100\n",
      "6700/6700 [==============================] - 1s 164us/step - loss: -511.1966 - val_loss: -507.6227\n",
      "Epoch 30/100\n",
      "6700/6700 [==============================] - 1s 171us/step - loss: -511.1633 - val_loss: -507.9734\n",
      "Epoch 31/100\n",
      "6700/6700 [==============================] - 1s 168us/step - loss: -511.1901 - val_loss: -507.8580\n",
      "Epoch 32/100\n",
      "6700/6700 [==============================] - 1s 161us/step - loss: -511.1827 - val_loss: -507.7348\n",
      "Epoch 33/100\n",
      "6700/6700 [==============================] - 1s 167us/step - loss: -511.2035 - val_loss: -507.7416\n",
      "Epoch 34/100\n",
      "6700/6700 [==============================] - 1s 162us/step - loss: -511.1540 - val_loss: -507.7306\n",
      "Epoch 35/100\n",
      "6700/6700 [==============================] - 1s 170us/step - loss: -511.1534 - val_loss: -507.8517\n",
      "Epoch 36/100\n",
      "6700/6700 [==============================] - 1s 164us/step - loss: -511.1526 - val_loss: -507.4522\n",
      "Epoch 37/100\n",
      "6700/6700 [==============================] - 1s 166us/step - loss: -511.1406 - val_loss: -507.6120\n",
      "Epoch 38/100\n",
      "6700/6700 [==============================] - 1s 163us/step - loss: -511.1539 - val_loss: -507.6333\n",
      "Epoch 39/100\n",
      "6700/6700 [==============================] - 1s 162us/step - loss: -511.1810 - val_loss: -507.5403\n",
      "Epoch 40/100\n",
      "6700/6700 [==============================] - 1s 163us/step - loss: -511.1587 - val_loss: -507.1517\n",
      "Epoch 41/100\n",
      "6700/6700 [==============================] - 1s 167us/step - loss: -511.1540 - val_loss: -507.3428\n",
      "Epoch 42/100\n",
      "6700/6700 [==============================] - 1s 162us/step - loss: -511.1224 - val_loss: -507.5703\n",
      "Epoch 43/100\n",
      "6700/6700 [==============================] - 1s 160us/step - loss: -511.1313 - val_loss: -507.4657\n",
      "Epoch 44/100\n",
      "6700/6700 [==============================] - 1s 162us/step - loss: -511.1017 - val_loss: -507.4295\n",
      "Epoch 45/100\n",
      "6700/6700 [==============================] - 1s 160us/step - loss: -511.0975 - val_loss: -507.6576\n",
      "Epoch 46/100\n",
      "6700/6700 [==============================] - 1s 160us/step - loss: -511.1268 - val_loss: -507.6606\n",
      "Epoch 47/100\n",
      "6700/6700 [==============================] - 1s 160us/step - loss: -511.0926 - val_loss: -507.3661\n",
      "Epoch 48/100\n",
      "6700/6700 [==============================] - 1s 160us/step - loss: -511.1118 - val_loss: -506.7489\n",
      "Epoch 49/100\n",
      "6700/6700 [==============================] - 1s 161us/step - loss: -511.0701 - val_loss: -507.4087\n",
      "Epoch 50/100\n",
      "6700/6700 [==============================] - 1s 165us/step - loss: -511.0718 - val_loss: -507.0369\n",
      "Epoch 51/100\n",
      "6700/6700 [==============================] - 1s 164us/step - loss: -511.0782 - val_loss: -507.6713\n",
      "Epoch 52/100\n",
      "6700/6700 [==============================] - 1s 169us/step - loss: -511.0779 - val_loss: -507.4131\n",
      "Epoch 53/100\n",
      "6700/6700 [==============================] - 1s 161us/step - loss: -511.0692 - val_loss: -507.1973\n",
      "Epoch 54/100\n",
      "6700/6700 [==============================] - 1s 166us/step - loss: -511.0688 - val_loss: -507.1068\n",
      "Epoch 55/100\n",
      "6700/6700 [==============================] - 1s 169us/step - loss: -511.0539 - val_loss: -507.1154\n",
      "Epoch 56/100\n",
      "6700/6700 [==============================] - 1s 161us/step - loss: -511.0366 - val_loss: -507.1925\n",
      "Epoch 57/100\n",
      "6700/6700 [==============================] - 1s 159us/step - loss: -511.0100 - val_loss: -507.3946\n",
      "Epoch 58/100\n",
      "6700/6700 [==============================] - 1s 160us/step - loss: -511.0498 - val_loss: -506.4423\n",
      "Epoch 59/100\n",
      "6700/6700 [==============================] - 1s 175us/step - loss: -511.0393 - val_loss: -507.0600\n",
      "Epoch 60/100\n",
      "6700/6700 [==============================] - 1s 175us/step - loss: -511.0309 - val_loss: -507.0218\n",
      "Epoch 61/100\n",
      "6700/6700 [==============================] - 1s 167us/step - loss: -511.0547 - val_loss: -506.8540\n",
      "Epoch 62/100\n",
      "6700/6700 [==============================] - 1s 167us/step - loss: -510.9784 - val_loss: -507.2973\n",
      "Epoch 63/100\n",
      "6700/6700 [==============================] - 1s 171us/step - loss: -511.0273 - val_loss: -507.1550\n",
      "Epoch 64/100\n",
      "6700/6700 [==============================] - 1s 162us/step - loss: -511.0430 - val_loss: -507.1828\n",
      "Epoch 65/100\n",
      "6700/6700 [==============================] - 1s 161us/step - loss: -511.0330 - val_loss: -506.9614\n",
      "Epoch 66/100\n",
      "6700/6700 [==============================] - 1s 185us/step - loss: -511.0265 - val_loss: -507.0898\n",
      "Epoch 67/100\n",
      "6700/6700 [==============================] - 1s 165us/step - loss: -511.0152 - val_loss: -507.0347\n",
      "Epoch 68/100\n",
      "6700/6700 [==============================] - 1s 163us/step - loss: -511.0082 - val_loss: -507.1917\n",
      "Epoch 69/100\n",
      "6700/6700 [==============================] - 1s 162us/step - loss: -510.9722 - val_loss: -507.2109\n",
      "Epoch 70/100\n",
      "6700/6700 [==============================] - 1s 170us/step - loss: -511.0288 - val_loss: -507.1889\n",
      "Epoch 71/100\n",
      "6700/6700 [==============================] - 1s 172us/step - loss: -510.9766 - val_loss: -506.7107\n",
      "Epoch 72/100\n",
      "6700/6700 [==============================] - 1s 160us/step - loss: -511.0044 - val_loss: -506.8515\n",
      "Epoch 73/100\n",
      "6700/6700 [==============================] - 1s 161us/step - loss: -510.9807 - val_loss: -506.5309\n",
      "Epoch 74/100\n",
      "6700/6700 [==============================] - 1s 157us/step - loss: -510.9860 - val_loss: -507.0971\n",
      "Epoch 75/100\n"
     ]
    },
    {
     "name": "stdout",
     "output_type": "stream",
     "text": [
      "6700/6700 [==============================] - 1s 157us/step - loss: -510.9642 - val_loss: -506.9854\n",
      "Epoch 76/100\n",
      "6700/6700 [==============================] - 1s 157us/step - loss: -510.9622 - val_loss: -506.7269\n",
      "Epoch 77/100\n",
      "6700/6700 [==============================] - 1s 155us/step - loss: -510.9882 - val_loss: -506.4639\n",
      "Epoch 78/100\n",
      "6700/6700 [==============================] - 1s 156us/step - loss: -510.9179 - val_loss: -506.6320\n",
      "Epoch 79/100\n",
      "6700/6700 [==============================] - 1s 155us/step - loss: -510.9502 - val_loss: -506.0711\n",
      "Epoch 80/100\n",
      "6700/6700 [==============================] - 1s 158us/step - loss: -510.9067 - val_loss: -506.6516\n",
      "Epoch 81/100\n",
      "6700/6700 [==============================] - 1s 155us/step - loss: -510.8914 - val_loss: -506.3231\n",
      "Epoch 82/100\n",
      "6700/6700 [==============================] - 1s 155us/step - loss: -510.9221 - val_loss: -506.1974\n",
      "Epoch 83/100\n",
      "6700/6700 [==============================] - 1s 155us/step - loss: -510.9227 - val_loss: -506.2105\n",
      "Epoch 84/100\n",
      "6700/6700 [==============================] - 1s 155us/step - loss: -510.9221 - val_loss: -506.1631\n",
      "Epoch 85/100\n",
      "6700/6700 [==============================] - 1s 155us/step - loss: -510.9541 - val_loss: -506.5652\n",
      "Epoch 86/100\n",
      "6700/6700 [==============================] - 1s 156us/step - loss: -510.9037 - val_loss: -506.3638\n",
      "Epoch 87/100\n",
      "6700/6700 [==============================] - 1s 159us/step - loss: -510.8711 - val_loss: -506.4048\n",
      "Epoch 88/100\n",
      "6700/6700 [==============================] - 1s 156us/step - loss: -510.8927 - val_loss: -506.0360\n",
      "Epoch 89/100\n",
      "6700/6700 [==============================] - 1s 155us/step - loss: -510.9108 - val_loss: -506.3963\n",
      "Epoch 90/100\n",
      "6700/6700 [==============================] - 1s 157us/step - loss: -510.8798 - val_loss: -506.1862\n",
      "Epoch 91/100\n",
      "6700/6700 [==============================] - 1s 157us/step - loss: -510.8543 - val_loss: -506.1111\n",
      "Epoch 92/100\n",
      "6700/6700 [==============================] - 1s 158us/step - loss: -510.8829 - val_loss: -505.7240\n",
      "Epoch 93/100\n",
      "6700/6700 [==============================] - 1s 159us/step - loss: -510.8423 - val_loss: -506.1755\n",
      "Epoch 94/100\n",
      "6700/6700 [==============================] - 1s 161us/step - loss: -510.8792 - val_loss: -506.1641\n",
      "Epoch 95/100\n",
      "6700/6700 [==============================] - 1s 156us/step - loss: -510.8388 - val_loss: -506.1337\n",
      "Epoch 96/100\n",
      "6700/6700 [==============================] - 1s 156us/step - loss: -510.6989 - val_loss: -505.7463\n",
      "Epoch 97/100\n",
      "6700/6700 [==============================] - 1s 159us/step - loss: -510.6703 - val_loss: -506.2160\n",
      "Epoch 98/100\n",
      "6700/6700 [==============================] - 1s 156us/step - loss: -510.6405 - val_loss: -505.6466\n",
      "Epoch 99/100\n",
      "6700/6700 [==============================] - 1s 158us/step - loss: -510.5417 - val_loss: -505.1126\n",
      "Epoch 100/100\n",
      "6700/6700 [==============================] - 1s 162us/step - loss: -510.0619 - val_loss: -505.2778\n"
     ]
    }
   ],
   "source": [
    "#Fit autoencoder\n",
    "\n",
    "# Train\n",
    "history_ae = autoencoder.fit(X_train, X_train, \\\n",
    "                    validation_data=(X_test, X_test),\\\n",
    "                    epochs = 100, \\\n",
    "                   callbacks=[monitor_val_acc,modelCheckpoint])\n"
   ]
  },
  {
   "cell_type": "markdown",
   "metadata": {},
   "source": [
    "### Evaluate Encoder and Illustrate"
   ]
  },
  {
   "cell_type": "code",
   "execution_count": 64,
   "metadata": {},
   "outputs": [
    {
     "name": "stdout",
     "output_type": "stream",
     "text": [
      "_________________________________________________________________\n",
      "Layer (type)                 Output Shape              Param #   \n",
      "=================================================================\n",
      "dense_3 (Dense)              (None, 32)                25120     \n",
      "=================================================================\n",
      "Total params: 25,120\n",
      "Trainable params: 25,120\n",
      "Non-trainable params: 0\n",
      "_________________________________________________________________\n"
     ]
    }
   ],
   "source": [
    "# Build your encoder\n",
    "encoder = Sequential()\n",
    "encoder.add(autoencoder.layers[0])\n",
    "\n",
    "encoder.summary()"
   ]
  },
  {
   "cell_type": "code",
   "execution_count": 65,
   "metadata": {},
   "outputs": [],
   "source": [
    "#Function for plotting encodings\n",
    "\n",
    "def show_encodings(encoded_imgs):\n",
    "    n = 5  # how many digits we will display\n",
    "    original = X_test_noise\n",
    "    #original = original[np.where(y_test == number)]\n",
    "    #encoded_imgs = encoded_imgs[np.where(y_test==number)]\n",
    "    plt.figure(figsize=(20, 4))\n",
    "    \n",
    "    #plt.title('Original '+str(number)+' vs Encoded representation')\n",
    "    for i in range(min(n,len(original))):\n",
    "        # display original imgs\n",
    "        ax = plt.subplot(2, n, i + 1)\n",
    "        plt.imshow(original[i].reshape(28, 28))\n",
    "        plt.gray()\n",
    "        ax.get_xaxis().set_visible(False)\n",
    "        ax.get_yaxis().set_visible(False)\n",
    "\n",
    "        # display encoded imgs\n",
    "        ax = plt.subplot(2, n, i + 1 + n)\n",
    "        plt.imshow(np.tile(encoded_imgs[i],(32,1)))\n",
    "        plt.gray()\n",
    "        ax.get_xaxis().set_visible(False)\n",
    "        ax.get_yaxis().set_visible(False)\n",
    "    plt.show()"
   ]
  },
  {
   "cell_type": "code",
   "execution_count": 66,
   "metadata": {},
   "outputs": [
    {
     "data": {
      "image/png": "[encoded data removed]",
      "text/plain": [
       "<matplotlib.figure.Figure at 0x11c0e7c18>"
      ]
     },
     "metadata": {},
     "output_type": "display_data"
    }
   ],
   "source": [
    "# Encode the images and show the encodings\n",
    "preds = encoder.predict(X_test_noise)\n",
    "show_encodings(preds)"
   ]
  },
  {
   "cell_type": "markdown",
   "metadata": {},
   "source": [
    "### Evaluate Autoencoder and Illustrate"
   ]
  },
  {
   "cell_type": "code",
   "execution_count": 67,
   "metadata": {},
   "outputs": [],
   "source": [
    "#Function for visualizing numbers\n",
    "\n",
    "def compare_plot(original,decoded_imgs):\n",
    "    n = 4  # How many digits we will display\n",
    "    plt.figure(figsize=(20, 4))\n",
    "    for i in range(n):\n",
    "        # Display original\n",
    "        ax = plt.subplot(2, n, i + 1)\n",
    "        plt.imshow(original[i].reshape(28, 28))\n",
    "        plt.gray()\n",
    "        ax.get_xaxis().set_visible(False)\n",
    "        ax.get_yaxis().set_visible(False)\n",
    "\n",
    "        # Display reconstruction\n",
    "        ax = plt.subplot(2, n, i + 1 + n)\n",
    "        plt.imshow(decoded_imgs[i].reshape(28, 28))\n",
    "        plt.gray()\n",
    "        ax.get_xaxis().set_visible(False)\n",
    "        ax.get_yaxis().set_visible(False)\n",
    "    plt.title('Noisy vs Decoded images')\n",
    "    plt.show()"
   ]
  },
  {
   "cell_type": "code",
   "execution_count": 68,
   "metadata": {},
   "outputs": [
    {
     "data": {
      "image/png": "[encoded data removed]",
      "text/plain": [
       "<matplotlib.figure.Figure at 0x11c3fa278>"
      ]
     },
     "metadata": {},
     "output_type": "display_data"
    }
   ],
   "source": [
    "# Predict on the noisy images with your autoencoder\n",
    "decoded_imgs = autoencoder.predict(X_test_noise)\n",
    "\n",
    "# Plot noisy vs decoded images\n",
    "compare_plot(X_test_noise, decoded_imgs)"
   ]
  },
  {
   "cell_type": "code",
   "execution_count": null,
   "metadata": {},
   "outputs": [],
   "source": []
  }
 ],
 "metadata": {
  "kernelspec": {
   "display_name": "Python 3",
   "language": "python",
   "name": "python3"
  },
  "language_info": {
   "codemirror_mode": {
    "name": "ipython",
    "version": 3
   },
   "file_extension": ".py",
   "mimetype": "text/x-python",
   "name": "python",
   "nbconvert_exporter": "python",
   "pygments_lexer": "ipython3",
   "version": "3.6.4"
  }
 },
 "nbformat": 4,
 "nbformat_minor": 2
}
