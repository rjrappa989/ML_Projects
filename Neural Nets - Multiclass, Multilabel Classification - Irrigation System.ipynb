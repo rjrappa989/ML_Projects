{
 "cells": [
  {
   "cell_type": "markdown",
   "metadata": {},
   "source": [
    "# Neural Nets - Multiclass, Multilabel Classification - Irrigation System\n",
    "\n",
    "Rob Rappa\n",
    "7/7/19\n",
    "\n",
    "#Source - DataCamp - Deep Learning with Keras"
   ]
  },
  {
   "cell_type": "code",
   "execution_count": 57,
   "metadata": {},
   "outputs": [],
   "source": [
    "#########################\n",
    "# IMPORT\n",
    "#########################\n",
    "\n",
    "import math\n",
    "import numpy as np\n",
    "from numpy import genfromtxt\n",
    "import pandas as pd\n",
    "import random\n",
    "import matplotlib.pyplot as plt\n",
    "import seaborn as sns\n",
    "from sklearn.model_selection import train_test_split\n",
    "from keras.models import Sequential\n",
    "from keras.layers import Dense, Conv2D, MaxPooling2D, Flatten, BatchNormalization, LeakyReLU\n",
    "from keras.callbacks import EarlyStopping, ModelCheckpoint"
   ]
  },
  {
   "cell_type": "markdown",
   "metadata": {},
   "source": [
    "### Read Data"
   ]
  },
  {
   "cell_type": "code",
   "execution_count": 8,
   "metadata": {},
   "outputs": [
    {
     "data": {
      "text/html": [
       "<div>\n",
       "<style scoped>\n",
       "    .dataframe tbody tr th:only-of-type {\n",
       "        vertical-align: middle;\n",
       "    }\n",
       "\n",
       "    .dataframe tbody tr th {\n",
       "        vertical-align: top;\n",
       "    }\n",
       "\n",
       "    .dataframe thead th {\n",
       "        text-align: right;\n",
       "    }\n",
       "</style>\n",
       "<table border=\"1\" class=\"dataframe\">\n",
       "  <thead>\n",
       "    <tr style=\"text-align: right;\">\n",
       "      <th></th>\n",
       "      <th>0</th>\n",
       "      <th>1</th>\n",
       "      <th>2</th>\n",
       "      <th>3</th>\n",
       "      <th>4</th>\n",
       "      <th>5</th>\n",
       "      <th>6</th>\n",
       "      <th>7</th>\n",
       "      <th>8</th>\n",
       "      <th>9</th>\n",
       "      <th>10</th>\n",
       "      <th>11</th>\n",
       "      <th>12</th>\n",
       "      <th>13</th>\n",
       "      <th>14</th>\n",
       "      <th>15</th>\n",
       "      <th>16</th>\n",
       "      <th>17</th>\n",
       "      <th>18</th>\n",
       "      <th>19</th>\n",
       "    </tr>\n",
       "  </thead>\n",
       "  <tbody>\n",
       "    <tr>\n",
       "      <th>0</th>\n",
       "      <td>1</td>\n",
       "      <td>2</td>\n",
       "      <td>1</td>\n",
       "      <td>7</td>\n",
       "      <td>0</td>\n",
       "      <td>1</td>\n",
       "      <td>1</td>\n",
       "      <td>4</td>\n",
       "      <td>0</td>\n",
       "      <td>3</td>\n",
       "      <td>1</td>\n",
       "      <td>3</td>\n",
       "      <td>6</td>\n",
       "      <td>8</td>\n",
       "      <td>1</td>\n",
       "      <td>0</td>\n",
       "      <td>2</td>\n",
       "      <td>1</td>\n",
       "      <td>9</td>\n",
       "      <td>2</td>\n",
       "    </tr>\n",
       "    <tr>\n",
       "      <th>1</th>\n",
       "      <td>5</td>\n",
       "      <td>1</td>\n",
       "      <td>3</td>\n",
       "      <td>5</td>\n",
       "      <td>2</td>\n",
       "      <td>2</td>\n",
       "      <td>1</td>\n",
       "      <td>2</td>\n",
       "      <td>3</td>\n",
       "      <td>1</td>\n",
       "      <td>3</td>\n",
       "      <td>2</td>\n",
       "      <td>2</td>\n",
       "      <td>4</td>\n",
       "      <td>5</td>\n",
       "      <td>5</td>\n",
       "      <td>2</td>\n",
       "      <td>2</td>\n",
       "      <td>2</td>\n",
       "      <td>7</td>\n",
       "    </tr>\n",
       "    <tr>\n",
       "      <th>2</th>\n",
       "      <td>3</td>\n",
       "      <td>1</td>\n",
       "      <td>4</td>\n",
       "      <td>3</td>\n",
       "      <td>4</td>\n",
       "      <td>0</td>\n",
       "      <td>1</td>\n",
       "      <td>6</td>\n",
       "      <td>0</td>\n",
       "      <td>2</td>\n",
       "      <td>3</td>\n",
       "      <td>2</td>\n",
       "      <td>4</td>\n",
       "      <td>3</td>\n",
       "      <td>3</td>\n",
       "      <td>1</td>\n",
       "      <td>0</td>\n",
       "      <td>3</td>\n",
       "      <td>1</td>\n",
       "      <td>0</td>\n",
       "    </tr>\n",
       "    <tr>\n",
       "      <th>3</th>\n",
       "      <td>2</td>\n",
       "      <td>2</td>\n",
       "      <td>4</td>\n",
       "      <td>3</td>\n",
       "      <td>5</td>\n",
       "      <td>0</td>\n",
       "      <td>3</td>\n",
       "      <td>2</td>\n",
       "      <td>2</td>\n",
       "      <td>5</td>\n",
       "      <td>3</td>\n",
       "      <td>1</td>\n",
       "      <td>2</td>\n",
       "      <td>4</td>\n",
       "      <td>1</td>\n",
       "      <td>1</td>\n",
       "      <td>4</td>\n",
       "      <td>1</td>\n",
       "      <td>3</td>\n",
       "      <td>2</td>\n",
       "    </tr>\n",
       "    <tr>\n",
       "      <th>4</th>\n",
       "      <td>4</td>\n",
       "      <td>3</td>\n",
       "      <td>3</td>\n",
       "      <td>2</td>\n",
       "      <td>5</td>\n",
       "      <td>1</td>\n",
       "      <td>3</td>\n",
       "      <td>1</td>\n",
       "      <td>1</td>\n",
       "      <td>2</td>\n",
       "      <td>4</td>\n",
       "      <td>5</td>\n",
       "      <td>3</td>\n",
       "      <td>1</td>\n",
       "      <td>3</td>\n",
       "      <td>2</td>\n",
       "      <td>2</td>\n",
       "      <td>1</td>\n",
       "      <td>1</td>\n",
       "      <td>0</td>\n",
       "    </tr>\n",
       "  </tbody>\n",
       "</table>\n",
       "</div>"
      ],
      "text/plain": [
       "   0  1  2  3  4  5  6  7  8  9  10  11  12  13  14  15  16  17  18  19\n",
       "0  1  2  1  7  0  1  1  4  0  3   1   3   6   8   1   0   2   1   9   2\n",
       "1  5  1  3  5  2  2  1  2  3  1   3   2   2   4   5   5   2   2   2   7\n",
       "2  3  1  4  3  4  0  1  6  0  2   3   2   4   3   3   1   0   3   1   0\n",
       "3  2  2  4  3  5  0  3  2  2  5   3   1   2   4   1   1   4   1   3   2\n",
       "4  4  3  3  2  5  1  3  1  1  2   4   5   3   1   3   2   2   1   1   0"
      ]
     },
     "execution_count": 8,
     "metadata": {},
     "output_type": "execute_result"
    }
   ],
   "source": [
    "#Read irrigation data\n",
    "#Downloaded from Datacamp\n",
    "\n",
    "#Read input\n",
    "sensors = pd.read_csv('data_irrigation_sensorsInput.csv', sep=\",\")\n",
    "\n",
    "sensors.head()"
   ]
  },
  {
   "cell_type": "code",
   "execution_count": 9,
   "metadata": {},
   "outputs": [
    {
     "data": {
      "text/html": [
       "<div>\n",
       "<style scoped>\n",
       "    .dataframe tbody tr th:only-of-type {\n",
       "        vertical-align: middle;\n",
       "    }\n",
       "\n",
       "    .dataframe tbody tr th {\n",
       "        vertical-align: top;\n",
       "    }\n",
       "\n",
       "    .dataframe thead th {\n",
       "        text-align: right;\n",
       "    }\n",
       "</style>\n",
       "<table border=\"1\" class=\"dataframe\">\n",
       "  <thead>\n",
       "    <tr style=\"text-align: right;\">\n",
       "      <th></th>\n",
       "      <th>0</th>\n",
       "      <th>1</th>\n",
       "      <th>2</th>\n",
       "    </tr>\n",
       "  </thead>\n",
       "  <tbody>\n",
       "    <tr>\n",
       "      <th>0</th>\n",
       "      <td>0</td>\n",
       "      <td>1</td>\n",
       "      <td>0</td>\n",
       "    </tr>\n",
       "    <tr>\n",
       "      <th>1</th>\n",
       "      <td>0</td>\n",
       "      <td>0</td>\n",
       "      <td>0</td>\n",
       "    </tr>\n",
       "    <tr>\n",
       "      <th>2</th>\n",
       "      <td>1</td>\n",
       "      <td>1</td>\n",
       "      <td>0</td>\n",
       "    </tr>\n",
       "    <tr>\n",
       "      <th>3</th>\n",
       "      <td>0</td>\n",
       "      <td>0</td>\n",
       "      <td>0</td>\n",
       "    </tr>\n",
       "    <tr>\n",
       "      <th>4</th>\n",
       "      <td>1</td>\n",
       "      <td>1</td>\n",
       "      <td>0</td>\n",
       "    </tr>\n",
       "  </tbody>\n",
       "</table>\n",
       "</div>"
      ],
      "text/plain": [
       "   0  1  2\n",
       "0  0  1  0\n",
       "1  0  0  0\n",
       "2  1  1  0\n",
       "3  0  0  0\n",
       "4  1  1  0"
      ]
     },
     "execution_count": 9,
     "metadata": {},
     "output_type": "execute_result"
    }
   ],
   "source": [
    "#Read output\n",
    "parcels = pd.read_csv('data_irrigation_parcelsOutput.csv', sep=\",\")\n",
    "\n",
    "parcels.head()"
   ]
  },
  {
   "cell_type": "code",
   "execution_count": 10,
   "metadata": {},
   "outputs": [],
   "source": [
    "#Split data\n",
    "sensors_train, sensors_test, parcels_train, parcels_test = train_test_split(sensors \\\n",
    "                                                    , parcels, test_size=0.33, random_state=42)"
   ]
  },
  {
   "cell_type": "markdown",
   "metadata": {},
   "source": [
    "### Build Architecture"
   ]
  },
  {
   "cell_type": "code",
   "execution_count": 11,
   "metadata": {},
   "outputs": [
    {
     "name": "stdout",
     "output_type": "stream",
     "text": [
      "_________________________________________________________________\n",
      "Layer (type)                 Output Shape              Param #   \n",
      "=================================================================\n",
      "dense_3 (Dense)              (None, 64)                1344      \n",
      "_________________________________________________________________\n",
      "dense_4 (Dense)              (None, 3)                 195       \n",
      "=================================================================\n",
      "Total params: 1,539\n",
      "Trainable params: 1,539\n",
      "Non-trainable params: 0\n",
      "_________________________________________________________________\n"
     ]
    }
   ],
   "source": [
    "# Instantiate a Sequential model\n",
    "model = Sequential()\n",
    "\n",
    "# Add a hidden layer of 64 neurons and a 20 neuron's input\n",
    "model.add(Dense(64,input_shape=(20,),activation='relu'))\n",
    "\n",
    "# Add an output layer of 3 neurons with sigmoid activation\n",
    "model.add(Dense(3,activation='sigmoid'))\n",
    "\n",
    "# Compile your model with adam and binary crossentropy loss\n",
    "model.compile(optimizer='adam',\n",
    "           loss='binary_crossentropy',\n",
    "           metrics=['accuracy'])\n",
    "\n",
    "model.summary()"
   ]
  },
  {
   "cell_type": "code",
   "execution_count": 49,
   "metadata": {},
   "outputs": [],
   "source": [
    "#Include Keras Callbacks\n",
    "\n",
    "# Define a callback to monitor val_acc\n",
    "monitor_val_acc = EarlyStopping(monitor='val_acc', patience=10)\n",
    "\n",
    "\n",
    "# Save the best model as best_banknote_model.hdf5\n",
    "modelCheckpoint = ModelCheckpoint('best_multiclassmultilabel_model.hdf5', save_best_only=True)"
   ]
  },
  {
   "cell_type": "markdown",
   "metadata": {},
   "source": [
    "### Train Model"
   ]
  },
  {
   "cell_type": "code",
   "execution_count": 50,
   "metadata": {},
   "outputs": [
    {
     "name": "stdout",
     "output_type": "stream",
     "text": [
      "Train on 1340 samples, validate on 660 samples\n",
      "Epoch 1/100\n",
      "1340/1340 [==============================] - 0s 64us/step - loss: 0.0600 - acc: 0.9811 - val_loss: 0.4488 - val_acc: 0.8732\n",
      "Epoch 2/100\n",
      "1340/1340 [==============================] - 0s 54us/step - loss: 0.0580 - acc: 0.9831 - val_loss: 0.4490 - val_acc: 0.8707\n",
      "Epoch 3/100\n",
      "1340/1340 [==============================] - 0s 60us/step - loss: 0.0580 - acc: 0.9813 - val_loss: 0.4547 - val_acc: 0.8768\n",
      "Epoch 4/100\n",
      "1340/1340 [==============================] - 0s 66us/step - loss: 0.0572 - acc: 0.9828 - val_loss: 0.4528 - val_acc: 0.8732\n",
      "Epoch 5/100\n",
      "1340/1340 [==============================] - 0s 68us/step - loss: 0.0581 - acc: 0.9826 - val_loss: 0.4595 - val_acc: 0.8768\n",
      "Epoch 6/100\n",
      "1340/1340 [==============================] - 0s 80us/step - loss: 0.0586 - acc: 0.9813 - val_loss: 0.4598 - val_acc: 0.8768\n",
      "Epoch 7/100\n",
      "1340/1340 [==============================] - 0s 78us/step - loss: 0.0569 - acc: 0.9843 - val_loss: 0.4582 - val_acc: 0.8722\n",
      "Epoch 8/100\n",
      "1340/1340 [==============================] - 0s 67us/step - loss: 0.0565 - acc: 0.9826 - val_loss: 0.4636 - val_acc: 0.8758\n",
      "Epoch 9/100\n",
      "1340/1340 [==============================] - 0s 68us/step - loss: 0.0581 - acc: 0.9828 - val_loss: 0.4652 - val_acc: 0.8742\n",
      "Epoch 10/100\n",
      "1340/1340 [==============================] - 0s 77us/step - loss: 0.0579 - acc: 0.9818 - val_loss: 0.4644 - val_acc: 0.8717\n",
      "Epoch 11/100\n",
      "1340/1340 [==============================] - 0s 77us/step - loss: 0.0570 - acc: 0.9821 - val_loss: 0.4623 - val_acc: 0.8732\n",
      "Epoch 12/100\n",
      "1340/1340 [==============================] - 0s 72us/step - loss: 0.0552 - acc: 0.9843 - val_loss: 0.4642 - val_acc: 0.8722\n",
      "Epoch 13/100\n",
      "1340/1340 [==============================] - 0s 76us/step - loss: 0.0551 - acc: 0.9841 - val_loss: 0.4663 - val_acc: 0.8682\n"
     ]
    }
   ],
   "source": [
    "# Train for 100 epochs using a validation split of 0.2\n",
    "history = model.fit(sensors_train, parcels_train, \\\n",
    "                    validation_data=(sensors_test, parcels_test),\\\n",
    "                    epochs = 100, \\\n",
    "                   callbacks=[monitor_val_acc,modelCheckpoint])\n"
   ]
  },
  {
   "cell_type": "markdown",
   "metadata": {},
   "source": [
    "### Review Training and Validation Loss and Accuracy"
   ]
  },
  {
   "cell_type": "code",
   "execution_count": 42,
   "metadata": {},
   "outputs": [
    {
     "data": {
      "text/plain": [
       "[0.06609919480423429,\n",
       " 0.0636237518000069,\n",
       " 0.06817113263393516,\n",
       " 0.06380676947422882,\n",
       " 0.06485369734799684]"
      ]
     },
     "execution_count": 42,
     "metadata": {},
     "output_type": "execute_result"
    }
   ],
   "source": [
    "#Look at Loss\n",
    "history.history['loss'][:5]"
   ]
  },
  {
   "cell_type": "code",
   "execution_count": 43,
   "metadata": {},
   "outputs": [],
   "source": [
    "#Function for plotting loss over epochs\n",
    "#Pulled from DataCamp class: print(inspect.getsource(plot_loss))\n",
    "\n",
    "def plot_loss(loss,val_loss):\n",
    "  plt.figure()\n",
    "  plt.plot(loss)\n",
    "  plt.plot(val_loss)\n",
    "  plt.title('Model loss')\n",
    "  plt.ylabel('Loss')\n",
    "  plt.xlabel('Epoch')\n",
    "  plt.legend(['Train', 'Test'], loc='upper right')\n",
    "  plt.show()"
   ]
  },
  {
   "cell_type": "code",
   "execution_count": 44,
   "metadata": {},
   "outputs": [
    {
     "data": {
      "image/png": "[encoded data removed]",
      "text/plain": [
       "<matplotlib.figure.Figure at 0x11b76f160>"
      ]
     },
     "metadata": {},
     "output_type": "display_data"
    }
   ],
   "source": [
    "# Plot train vs test loss during training\n",
    "plot_loss(history.history['loss'], history.history['val_loss'])"
   ]
  },
  {
   "cell_type": "code",
   "execution_count": 45,
   "metadata": {},
   "outputs": [],
   "source": [
    "#Function for plotting accuracy over epochs\n",
    "#Pulled from DataCamp class: print(inspect.getsource(plot_accuracy))\n",
    "\n",
    "def plot_accuracy(acc,val_acc):\n",
    "  plt.figure()\n",
    "  plt.plot(acc)\n",
    "  plt.plot(val_acc)\n",
    "  plt.title('Model accuracy')\n",
    "  plt.ylabel('Accuracy')\n",
    "  plt.xlabel('Epoch')\n",
    "  plt.legend(['Train', 'Test'], loc='upper left')\n",
    "  plt.show()"
   ]
  },
  {
   "cell_type": "code",
   "execution_count": 46,
   "metadata": {},
   "outputs": [
    {
     "data": {
      "image/png": "[encoded data removed]",
      "text/plain": [
       "<matplotlib.figure.Figure at 0x11b787f98>"
      ]
     },
     "metadata": {},
     "output_type": "display_data"
    }
   ],
   "source": [
    "# Plot train vs test accuracy during training\n",
    "plot_accuracy(history.history['acc'], history.history['val_acc'])"
   ]
  },
  {
   "cell_type": "markdown",
   "metadata": {},
   "source": [
    "### Evaluate Predictions"
   ]
  },
  {
   "cell_type": "code",
   "execution_count": 13,
   "metadata": {},
   "outputs": [
    {
     "name": "stdout",
     "output_type": "stream",
     "text": [
      "Rounded Predictions: \n",
      " [[1. 1. 1.]\n",
      " [0. 0. 0.]\n",
      " [1. 1. 0.]\n",
      " ...\n",
      " [0. 0. 0.]\n",
      " [1. 1. 0.]\n",
      " [0. 1. 0.]]\n",
      "660/660 [==============================] - 0s 21us/step\n",
      "Accuracy: 0.8954545599041563\n"
     ]
    }
   ],
   "source": [
    "# Predict on sensors_test and round up the predictions\n",
    "preds = model.predict(sensors_test)\n",
    "preds_rounded = np.round(preds)\n",
    "\n",
    "# Print rounded preds\n",
    "print('Rounded Predictions: \\n', preds_rounded)\n",
    "\n",
    "# Evaluate your model's accuracy on the test data\n",
    "accuracy = model.evaluate(sensors_test, parcels_test)[1]\n",
    "\n",
    "# Print accuracy\n",
    "print('Accuracy:', accuracy)"
   ]
  },
  {
   "cell_type": "markdown",
   "metadata": {},
   "source": [
    "### Evaluate Different Activation Functions"
   ]
  },
  {
   "cell_type": "code",
   "execution_count": 73,
   "metadata": {},
   "outputs": [],
   "source": [
    "#Function to create architecture\n",
    "\n",
    "def get_model(act_function):\n",
    "  model = Sequential()\n",
    "\n",
    "  #Add in the hidden layer with activation\n",
    "  if act_function == 'leaky_relu':\n",
    "    model.add(Dense(64, input_shape=(20,)))\n",
    "    model.add(LeakyReLU())\n",
    "  else:\n",
    "    model.add(Dense(64, input_shape=(20,), activation=act_function))\n",
    " \n",
    "  #Output layer\n",
    "  model.add(Dense(3, activation='sigmoid'))\n",
    "    \n",
    "  #Compile  \n",
    "  model.compile(optimizer='adam', \\\n",
    "              loss='binary_crossentropy',\\\n",
    "              metrics=['accuracy'])\n",
    "  return model"
   ]
  },
  {
   "cell_type": "code",
   "execution_count": 74,
   "metadata": {},
   "outputs": [],
   "source": [
    "#Run model with different activations\n",
    "\n",
    "# Set a seed\n",
    "np.random.seed(27)\n",
    "\n",
    "# Activation functions to try\n",
    "activations = ['relu', 'leaky_relu', 'sigmoid', 'tanh']\n",
    "\n",
    "# Loop over the activation functions\n",
    "activation_results = {}\n",
    "\n",
    "for act in activations:\n",
    "  # Get a new model with the current activation\n",
    "  model = get_model(act)\n",
    "  # Fit the model\n",
    "  history = model.fit(sensors_train, parcels_train,validation_data=(sensors_test, parcels_test),epochs=20,verbose=0)\n",
    "  activation_results[act] = history"
   ]
  },
  {
   "cell_type": "code",
   "execution_count": 80,
   "metadata": {},
   "outputs": [
    {
     "data": {
      "text/plain": [
       "{'acc': [0.7131841059940964,\n",
       "  0.7937811214532425,\n",
       "  0.8303482779816015,\n",
       "  0.8465174360061759,\n",
       "  0.8614428123431419,\n",
       "  0.8651741511786162,\n",
       "  0.8728855901689672,\n",
       "  0.8738806165865998,\n",
       "  0.8783582297723684,\n",
       "  0.8783582292385955,\n",
       "  0.8855721607137083,\n",
       "  0.8855721564435247,\n",
       "  0.8898010109787556,\n",
       "  0.8915423081881965,\n",
       "  0.8895522544633097,\n",
       "  0.8932836020170752,\n",
       "  0.8927860863173186,\n",
       "  0.8965174301346737,\n",
       "  0.9002487709273154,\n",
       "  0.9034826095424481],\n",
       " 'loss': [0.5908150985169767,\n",
       "  0.43068790942875307,\n",
       "  0.37154869108057736,\n",
       "  0.33957065134795744,\n",
       "  0.31843487389052094,\n",
       "  0.3030939284545272,\n",
       "  0.2944073782038333,\n",
       "  0.287867756032232,\n",
       "  0.2816014546511778,\n",
       "  0.2749503419915242,\n",
       "  0.2697383959346743,\n",
       "  0.26587160407607235,\n",
       "  0.2610096573829651,\n",
       "  0.2582630190386701,\n",
       "  0.2531526892042872,\n",
       "  0.250086543186387,\n",
       "  0.24483470267324306,\n",
       "  0.2410741990181937,\n",
       "  0.2378244871523843,\n",
       "  0.23283340530609017],\n",
       " 'val_acc': [0.7722222508806171,\n",
       "  0.8181818463585594,\n",
       "  0.8434343735376993,\n",
       "  0.8590909343777281,\n",
       "  0.862626288876389,\n",
       "  0.8651515433282563,\n",
       "  0.8696969920938665,\n",
       "  0.868686894936995,\n",
       "  0.8742424556703279,\n",
       "  0.8808080991109212,\n",
       "  0.8782828558575023,\n",
       "  0.8828283104029568,\n",
       "  0.8792929591554584,\n",
       "  0.8833333532015483,\n",
       "  0.8828283046231126,\n",
       "  0.8904040654500326,\n",
       "  0.8909091078873836,\n",
       "  0.8893939621520764,\n",
       "  0.8904040621988701,\n",
       "  0.8853535504052134],\n",
       " 'val_loss': [0.46726631504116634,\n",
       "  0.3915468723484964,\n",
       "  0.3523150256185821,\n",
       "  0.3324911700956749,\n",
       "  0.31456279050220143,\n",
       "  0.30558581948280333,\n",
       "  0.2986743358048526,\n",
       "  0.29783950014547866,\n",
       "  0.2894098969119968,\n",
       "  0.2859774511871916,\n",
       "  0.28424858550230664,\n",
       "  0.2792567363291076,\n",
       "  0.280268852909406,\n",
       "  0.27859961173751135,\n",
       "  0.2701661043094866,\n",
       "  0.26421871094992666,\n",
       "  0.2613299675060041,\n",
       "  0.2629159986069708,\n",
       "  0.2568047700506268,\n",
       "  0.2630488886977687]}"
      ]
     },
     "execution_count": 80,
     "metadata": {},
     "output_type": "execute_result"
    }
   ],
   "source": [
    "#Look at activation_results (example)\n",
    "activation_results['leaky_relu'].history"
   ]
  },
  {
   "cell_type": "code",
   "execution_count": 81,
   "metadata": {},
   "outputs": [
    {
     "data": {
      "text/plain": [
       "{'leaky_relu': [0.46726631504116634,\n",
       "  0.3915468723484964,\n",
       "  0.3523150256185821,\n",
       "  0.3324911700956749,\n",
       "  0.31456279050220143,\n",
       "  0.30558581948280333,\n",
       "  0.2986743358048526,\n",
       "  0.29783950014547866,\n",
       "  0.2894098969119968,\n",
       "  0.2859774511871916,\n",
       "  0.28424858550230664,\n",
       "  0.2792567363291076,\n",
       "  0.280268852909406,\n",
       "  0.27859961173751135,\n",
       "  0.2701661043094866,\n",
       "  0.26421871094992666,\n",
       "  0.2613299675060041,\n",
       "  0.2629159986069708,\n",
       "  0.2568047700506268,\n",
       "  0.2630488886977687],\n",
       " 'relu': [0.45191956451444915,\n",
       "  0.37181741577206234,\n",
       "  0.33325489488514987,\n",
       "  0.3100231372948849,\n",
       "  0.296699061718854,\n",
       "  0.28696950475374855,\n",
       "  0.27970166414073017,\n",
       "  0.27870142035412065,\n",
       "  0.2761745635307196,\n",
       "  0.2678105168270342,\n",
       "  0.26337391092921747,\n",
       "  0.2591833893096808,\n",
       "  0.25796710939118356,\n",
       "  0.25867490777463625,\n",
       "  0.2532364666461945,\n",
       "  0.2502924118981217,\n",
       "  0.24942323953816384,\n",
       "  0.2517255810174075,\n",
       "  0.249323466871724,\n",
       "  0.24383433163166046],\n",
       " 'sigmoid': [0.5332314104744882,\n",
       "  0.4807152746301709,\n",
       "  0.43520640315431536,\n",
       "  0.40062752131259805,\n",
       "  0.3748564346270128,\n",
       "  0.3569998788111138,\n",
       "  0.3386477439692526,\n",
       "  0.32670775760303844,\n",
       "  0.3172049300237135,\n",
       "  0.3111957439870545,\n",
       "  0.3036861585848259,\n",
       "  0.2960552917285399,\n",
       "  0.29093220748684623,\n",
       "  0.288076931960655,\n",
       "  0.2818374801765789,\n",
       "  0.27934460441271464,\n",
       "  0.2764501912124229,\n",
       "  0.2709158672527833,\n",
       "  0.26911104908495237,\n",
       "  0.26472874464410723],\n",
       " 'tanh': [0.4734202554731658,\n",
       "  0.40599617380084413,\n",
       "  0.3660782510584051,\n",
       "  0.34011109778375337,\n",
       "  0.3270648260911306,\n",
       "  0.3127364445816387,\n",
       "  0.3046029735695232,\n",
       "  0.2990268239469239,\n",
       "  0.29311814949367987,\n",
       "  0.2881416892463511,\n",
       "  0.2835987134413286,\n",
       "  0.27657633965665646,\n",
       "  0.27144873449296664,\n",
       "  0.26879492076960476,\n",
       "  0.26423412904594884,\n",
       "  0.2603450787789894,\n",
       "  0.25791678338339835,\n",
       "  0.25596544110413755,\n",
       "  0.2548835427472086,\n",
       "  0.25085987042297014]}"
      ]
     },
     "execution_count": 81,
     "metadata": {},
     "output_type": "execute_result"
    }
   ],
   "source": [
    "#Store val_loss and val_acc in dictionaries\n",
    "\n",
    "#Create dictionaries for val_loss and val_acc\n",
    "val_loss_per_function = {}\n",
    "val_acc_per_function  = {}\n",
    "\n",
    "#Store results for val_loss and val_act in dictionaries\n",
    "for act in activations:\n",
    "    val_loss_per_function[act] = activation_results[act].history['val_loss']\n",
    "    val_acc_per_function[act]  = activation_results[act].history['val_acc']\n",
    "    \n",
    "#Review results\n",
    "val_loss_per_function"
   ]
  },
  {
   "cell_type": "code",
   "execution_count": 82,
   "metadata": {},
   "outputs": [
    {
     "data": {
      "image/png": "[encoded data removed]",
      "text/plain": [
       "<matplotlib.figure.Figure at 0x131c0d898>"
      ]
     },
     "metadata": {},
     "output_type": "display_data"
    }
   ],
   "source": [
    "#Evaluate val_loss\n",
    "\n",
    "# Create a dataframe from val_loss_per_function\n",
    "val_loss= pd.DataFrame(val_loss_per_function)\n",
    "\n",
    "# Call plot on the dataframe\n",
    "val_loss.plot()\n",
    "plt.show()\n"
   ]
  },
  {
   "cell_type": "code",
   "execution_count": 83,
   "metadata": {},
   "outputs": [
    {
     "data": {
      "image/png": "[encoded data removed]",
      "text/plain": [
       "<matplotlib.figure.Figure at 0x1338272e8>"
      ]
     },
     "metadata": {},
     "output_type": "display_data"
    }
   ],
   "source": [
    "#Evaluate val_acc\n",
    "\n",
    "# Create a dataframe from val_acc_per_function\n",
    "val_acc = pd.DataFrame(val_acc_per_function)\n",
    "\n",
    "# Call plot on the dataframe\n",
    "val_acc.plot()\n",
    "plt.show()"
   ]
  },
  {
   "cell_type": "code",
   "execution_count": null,
   "metadata": {},
   "outputs": [],
   "source": []
  }
 ],
 "metadata": {
  "kernelspec": {
   "display_name": "Python 3",
   "language": "python",
   "name": "python3"
  },
  "language_info": {
   "codemirror_mode": {
    "name": "ipython",
    "version": 3
   },
   "file_extension": ".py",
   "mimetype": "text/x-python",
   "name": "python",
   "nbconvert_exporter": "python",
   "pygments_lexer": "ipython3",
   "version": "3.6.4"
  }
 },
 "nbformat": 4,
 "nbformat_minor": 2
}
